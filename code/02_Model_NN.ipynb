{
 "cells": [
  {
   "cell_type": "code",
   "execution_count": 1,
   "metadata": {},
   "outputs": [],
   "source": [
    "import pandas as pd\n",
    "import numpy as np\n",
    "import matplotlib.pyplot as plt\n",
    "import torch\n",
    "import torch.nn as nn\n",
    "import torch.optim as optim\n",
    "from torch.utils.data import DataLoader, Dataset\n",
    "from sklearn.model_selection import train_test_split\n",
    "from sklearn.preprocessing import StandardScaler\n"
   ]
  },
  {
   "cell_type": "markdown",
   "metadata": {},
   "source": [
    "# 0. import data"
   ]
  },
  {
   "cell_type": "code",
   "execution_count": 2,
   "metadata": {},
   "outputs": [],
   "source": [
    "# set random state\n",
    "np.random.seed(42)"
   ]
  },
  {
   "cell_type": "code",
   "execution_count": 3,
   "metadata": {},
   "outputs": [],
   "source": [
    "# load data\n",
    "train = pd.read_csv('/Users/edmundoarias/Documents/Uniandes/2024-2/ProblemSet_3/data/ready/train_ready.csv')\n",
    "test = pd.read_csv('/Users/edmundoarias/Documents/Uniandes/2024-2/ProblemSet_3/data/ready/test_ready.csv')"
   ]
  },
  {
   "cell_type": "code",
   "execution_count": 4,
   "metadata": {},
   "outputs": [],
   "source": [
    "# drop price_per_m2 from train\n",
    "train = train.drop(columns=['price_per_m2'])"
   ]
  },
  {
   "cell_type": "code",
   "execution_count": 5,
   "metadata": {},
   "outputs": [],
   "source": [
    "# Custom dataset class\n",
    "class PropertyDataset(Dataset):\n",
    "    def __init__(self, X, y):\n",
    "        self.X = torch.tensor(X, dtype=torch.float32)\n",
    "        self.y = torch.tensor(y, dtype=torch.float32)\n",
    "        \n",
    "    def __len__(self):\n",
    "        return len(self.X)\n",
    "    \n",
    "    def __getitem__(self, idx):\n",
    "        return self.X[idx], self.y[idx]\n"
   ]
  },
  {
   "cell_type": "code",
   "execution_count": 6,
   "metadata": {},
   "outputs": [],
   "source": [
    "# Neural Network model\n",
    "class PricePredictor(nn.Module):\n",
    "    def __init__(self, input_size):\n",
    "        super(PricePredictor, self).__init__()\n",
    "        \n",
    "        self.network = nn.Sequential(\n",
    "            nn.Linear(input_size, 128),\n",
    "            nn.ReLU(),\n",
    "            nn.BatchNorm1d(128),\n",
    "            nn.Dropout(0.3),\n",
    "            \n",
    "            nn.Linear(128, 64),\n",
    "            nn.ReLU(),\n",
    "            nn.BatchNorm1d(64),\n",
    "            nn.Dropout(0.2),\n",
    "            \n",
    "            nn.Linear(64, 32),\n",
    "            nn.ReLU(),\n",
    "            nn.BatchNorm1d(32),\n",
    "            \n",
    "            nn.Linear(32, 1)\n",
    "        )\n",
    "    \n",
    "    def forward(self, x):\n",
    "        return self.network(x)"
   ]
  },
  {
   "cell_type": "code",
   "execution_count": 7,
   "metadata": {},
   "outputs": [],
   "source": [
    "def train_model(model, train_loader, val_loader, criterion, optimizer, device, num_epochs):\n",
    "    train_losses = []\n",
    "    val_losses = []\n",
    "    best_val_loss = float('inf')\n",
    "    \n",
    "    for epoch in range(num_epochs):\n",
    "        # Training phase\n",
    "        model.train()\n",
    "        train_loss = 0\n",
    "        for X_batch, y_batch in train_loader:\n",
    "            X_batch, y_batch = X_batch.to(device), y_batch.to(device)\n",
    "            \n",
    "            optimizer.zero_grad()\n",
    "            y_pred = model(X_batch)\n",
    "            loss = criterion(y_pred, y_batch.view(-1, 1))\n",
    "            \n",
    "            loss.backward()\n",
    "            optimizer.step()\n",
    "            \n",
    "            train_loss += loss.item()\n",
    "        \n",
    "        # Validation phase\n",
    "        model.eval()\n",
    "        val_loss = 0\n",
    "        with torch.no_grad():\n",
    "            for X_val, y_val in val_loader:\n",
    "                X_val, y_val = X_val.to(device), y_val.to(device)\n",
    "                y_pred = model(X_val)\n",
    "                val_loss += criterion(y_pred, y_val.view(-1, 1)).item()\n",
    "        \n",
    "        # Calculate average losses\n",
    "        train_loss = train_loss / len(train_loader)\n",
    "        val_loss = val_loss / len(val_loader)\n",
    "        \n",
    "        train_losses.append(train_loss)\n",
    "        val_losses.append(val_loss)\n",
    "        \n",
    "        # Save best model\n",
    "        if val_loss < best_val_loss:\n",
    "            best_val_loss = val_loss\n",
    "            torch.save(model.state_dict(), 'best_model.pth')\n",
    "        \n",
    "        if (epoch + 1) % 5 == 0:\n",
    "            print(f'Epoch [{epoch+1}/{num_epochs}], Train Loss: {train_loss:.4f}, Val Loss: {val_loss:.4f}')\n",
    "    \n",
    "    return train_losses, val_losses"
   ]
  },
  {
   "cell_type": "code",
   "execution_count": 8,
   "metadata": {},
   "outputs": [],
   "source": [
    "# prep data\n",
    "def prepare_data(train_df):\n",
    "    # Select numeric columns and target\n",
    "    numeric_cols = train_df.select_dtypes(include=['int64', 'float64']).columns\n",
    "    feature_cols = [col for col in numeric_cols if col not in ['price', 'property_id']]\n",
    "    \n",
    "    # Split features and target\n",
    "    X = train_df[feature_cols].values\n",
    "    y = train_df['price'].values\n",
    "    \n",
    "    # Scale features\n",
    "    scaler = StandardScaler()\n",
    "    X_scaled = scaler.fit_transform(X)\n",
    "    \n",
    "    # Scale target (log transform for price)\n",
    "    y_log = np.log1p(y)\n",
    "    \n",
    "    # Train-validation split\n",
    "    X_train, X_val, y_train, y_val = train_test_split(\n",
    "        X_scaled, y_log, test_size=0.2, random_state=42\n",
    "    )\n",
    "    \n",
    "    # Create datasets\n",
    "    train_dataset = PropertyDataset(X_train, y_train)\n",
    "    val_dataset = PropertyDataset(X_val, y_val)\n",
    "    \n",
    "    return train_dataset, val_dataset, scaler, feature_cols"
   ]
  },
  {
   "cell_type": "code",
   "execution_count": null,
   "metadata": {},
   "outputs": [
    {
     "name": "stdout",
     "output_type": "stream",
     "text": [
      "Using device: cpu\n",
      "Epoch [5/50], Train Loss: 0.1851, Val Loss: 0.1606\n",
      "Epoch [10/50], Train Loss: 0.1594, Val Loss: 0.1398\n",
      "Epoch [15/50], Train Loss: 0.1497, Val Loss: 0.1362\n",
      "Epoch [20/50], Train Loss: 0.1469, Val Loss: 0.1281\n",
      "Epoch [25/50], Train Loss: 0.1411, Val Loss: 0.1171\n",
      "Epoch [30/50], Train Loss: 0.1384, Val Loss: 0.1253\n",
      "Epoch [35/50], Train Loss: 0.1352, Val Loss: 0.1337\n",
      "Epoch [40/50], Train Loss: 0.1335, Val Loss: 0.1437\n",
      "Epoch [45/50], Train Loss: 0.1322, Val Loss: 0.1485\n",
      "Epoch [50/50], Train Loss: 0.1307, Val Loss: 0.1193\n"
     ]
    },
    {
     "data": {
      "image/png": "[encoded data removed]",
      "text/plain": [
       "<Figure size 1000x600 with 1 Axes>"
      ]
     },
     "metadata": {},
     "output_type": "display_data"
    }
   ],
   "source": [
    "# main training setup\n",
    "def setup_and_train(train_df, batch_size=64, num_epochs=50, learning_rate=0.001):\n",
    "    # Prepare data\n",
    "    train_dataset, val_dataset, scaler, feature_cols = prepare_data(train_df)\n",
    "    \n",
    "    # Create data loaders\n",
    "    train_loader = DataLoader(train_dataset, batch_size=batch_size, shuffle=True)\n",
    "    val_loader = DataLoader(val_dataset, batch_size=batch_size)\n",
    "    \n",
    "    # Setup device\n",
    "    device = torch.device('cuda' if torch.cuda.is_available() else 'cpu')\n",
    "    print(f'Using device: {device}')\n",
    "    \n",
    "    # Initialize model\n",
    "    model = PricePredictor(input_size=len(feature_cols)).to(device)\n",
    "    \n",
    "    # Loss and optimizer\n",
    "    criterion = nn.L1Loss()  # MAE loss\n",
    "    optimizer = torch.optim.Adam(model.parameters(), lr=learning_rate)\n",
    "    \n",
    "    # Train model\n",
    "    train_losses, val_losses = train_model(\n",
    "        model, train_loader, val_loader, criterion, \n",
    "        optimizer, device, num_epochs\n",
    "    )\n",
    "    \n",
    "    # Plot training curves\n",
    "    plt.figure(figsize=(10, 6))\n",
    "    plt.plot(train_losses, label='Training Loss')\n",
    "    plt.plot(val_losses, label='Validation Loss')\n",
    "    plt.xlabel('Epoch')\n",
    "    plt.ylabel('Loss (MAE)')\n",
    "    plt.title('Training and Validation Loss')\n",
    "    plt.legend()\n",
    "    plt.show()\n",
    "    \n",
    "    return model, scaler, feature_cols\n",
    "\n",
    "# Usage\n",
    "model, scaler, feature_cols = setup_and_train(train)"
   ]
  },
  {
   "cell_type": "code",
   "execution_count": 10,
   "metadata": {},
   "outputs": [
    {
     "name": "stdout",
     "output_type": "stream",
     "text": [
      "\n",
      "Submission file created: /Users/edmundoarias/Documents/Uniandes/2024-2/ProblemSet_3/results/submissions/nn/nn_v1.csv\n",
      "Number of predictions: 10286\n",
      "\n",
      "Sample of submission file:\n",
      "                property_id      price\n",
      "0  d56159653f5d2abc5ed5acd7  705795392\n",
      "1  45550aa81c0151f1fd9fd8fe  686527296\n",
      "2  735deef3382aa15930482f3e  717641984\n",
      "3  0dd49fa8bb7be52b851c6dc9  722020416\n",
      "4  7d3220a91e78f8bc2924d1cd  715632704\n"
     ]
    }
   ],
   "source": [
    "def create_submission_file(model, test_df, scaler, feature_cols, filename='/Users/edmundoarias/Documents/Uniandes/2024-2/ProblemSet_3/results/submissions/nn/nn_v1.csv'):\n",
    "    \"\"\"\n",
    "    Create submission file with predictions in the required format\n",
    "    \"\"\"\n",
    "    # Prepare test data\n",
    "    X_test = test_df[feature_cols].values\n",
    "    X_test_scaled = scaler.transform(X_test)\n",
    "    X_test_tensor = torch.tensor(X_test_scaled, dtype=torch.float32)\n",
    "    \n",
    "    # Set model to evaluation mode\n",
    "    model.eval()\n",
    "    \n",
    "    # Make predictions\n",
    "    with torch.no_grad():\n",
    "        y_pred_log = model(X_test_tensor).cpu().numpy()\n",
    "    \n",
    "    # Convert from log space back to original scale\n",
    "    predictions = np.expm1(y_pred_log).flatten()\n",
    "    \n",
    "    # Create submission DataFrame\n",
    "    submission = pd.DataFrame({\n",
    "        'property_id': test_df['property_id'],\n",
    "        'price': predictions\n",
    "    })\n",
    "    \n",
    "    # Round prices to integers\n",
    "    submission['price'] = submission['price'].round().astype(int)\n",
    "    \n",
    "    # Save to CSV with the exact format\n",
    "    submission.to_csv(filename, index=False, quoting=1)  # quoting=1 ensures quotes around property_id\n",
    "    \n",
    "    print(f\"\\nSubmission file created: {filename}\")\n",
    "    print(f\"Number of predictions: {len(submission)}\")\n",
    "    print(\"\\nSample of submission file:\")\n",
    "    print(submission.head())\n",
    "    \n",
    "    return submission\n",
    "\n",
    "# Create submission\n",
    "submission = create_submission_file(model, test, scaler, feature_cols)"
   ]
  },
  {
   "cell_type": "markdown",
   "metadata": {},
   "source": [
    "## V2 \n",
    "--> doubled neurons on first layer"
   ]
  },
  {
   "cell_type": "code",
   "execution_count": 12,
   "metadata": {},
   "outputs": [],
   "source": [
    "class PricePredictor(nn.Module):\n",
    "    def __init__(self, input_size):\n",
    "        super(PricePredictor, self).__init__()\n",
    "        \n",
    "        self.network = nn.Sequential(\n",
    "            # Increased first layer from 128 to 256 neurons\n",
    "            nn.Linear(input_size, 256),\n",
    "            nn.ReLU(),\n",
    "            nn.BatchNorm1d(256),\n",
    "            nn.Dropout(0.3),\n",
    "            \n",
    "            # Rest of the architecture remains the same\n",
    "            nn.Linear(256, 64),\n",
    "            nn.ReLU(),\n",
    "            nn.BatchNorm1d(64),\n",
    "            nn.Dropout(0.2),\n",
    "            \n",
    "            nn.Linear(64, 32),\n",
    "            nn.ReLU(),\n",
    "            nn.BatchNorm1d(32),\n",
    "            \n",
    "            nn.Linear(32, 1)\n",
    "        )\n",
    "    \n",
    "    def forward(self, x):\n",
    "        return self.network(x)"
   ]
  },
  {
   "cell_type": "code",
   "execution_count": 13,
   "metadata": {},
   "outputs": [
    {
     "name": "stdout",
     "output_type": "stream",
     "text": [
      "Using device: cpu\n",
      "Epoch [5/50], Train Loss: 0.1894, Val Loss: 0.1717\n",
      "Epoch [10/50], Train Loss: 0.1551, Val Loss: 0.1389\n",
      "Epoch [15/50], Train Loss: 0.1458, Val Loss: 0.1315\n",
      "Epoch [20/50], Train Loss: 0.1449, Val Loss: 0.1262\n",
      "Epoch [25/50], Train Loss: 0.1376, Val Loss: 0.1234\n",
      "Epoch [30/50], Train Loss: 0.1332, Val Loss: 0.1319\n",
      "Epoch [35/50], Train Loss: 0.1327, Val Loss: 0.1435\n",
      "Epoch [40/50], Train Loss: 0.1295, Val Loss: 0.1156\n",
      "Epoch [45/50], Train Loss: 0.1293, Val Loss: 0.1146\n",
      "Epoch [50/50], Train Loss: 0.1280, Val Loss: 0.1393\n"
     ]
    },
    {
     "data": {
      "image/png": "[encoded data removed]",
      "text/plain": [
       "<Figure size 1000x600 with 1 Axes>"
      ]
     },
     "metadata": {},
     "output_type": "display_data"
    }
   ],
   "source": [
    "model, scaler, feature_cols = setup_and_train(train)"
   ]
  },
  {
   "cell_type": "code",
   "execution_count": 14,
   "metadata": {},
   "outputs": [
    {
     "name": "stdout",
     "output_type": "stream",
     "text": [
      "\n",
      "Submission file created: /Users/edmundoarias/Documents/Uniandes/2024-2/ProblemSet_3/results/submissions/nn/nn_v2.csv\n",
      "Number of predictions: 10286\n",
      "\n",
      "Sample of submission file:\n",
      "                property_id      price\n",
      "0  d56159653f5d2abc5ed5acd7  585912256\n",
      "1  45550aa81c0151f1fd9fd8fe  584077952\n",
      "2  735deef3382aa15930482f3e  632434432\n",
      "3  0dd49fa8bb7be52b851c6dc9  618517440\n",
      "4  7d3220a91e78f8bc2924d1cd  620445760\n"
     ]
    }
   ],
   "source": [
    "def create_submission_file(model, test_df, scaler, feature_cols, filename='/Users/edmundoarias/Documents/Uniandes/2024-2/ProblemSet_3/results/submissions/nn/nn_v2.csv'):\n",
    "    \"\"\"\n",
    "    Create submission file with predictions in the required format\n",
    "    \"\"\"\n",
    "    # Prepare test data\n",
    "    X_test = test_df[feature_cols].values\n",
    "    X_test_scaled = scaler.transform(X_test)\n",
    "    X_test_tensor = torch.tensor(X_test_scaled, dtype=torch.float32)\n",
    "    \n",
    "    # Set model to evaluation mode\n",
    "    model.eval()\n",
    "    \n",
    "    # Make predictions\n",
    "    with torch.no_grad():\n",
    "        y_pred_log = model(X_test_tensor).cpu().numpy()\n",
    "    \n",
    "    # Convert from log space back to original scale\n",
    "    predictions = np.expm1(y_pred_log).flatten()\n",
    "    \n",
    "    # Create submission DataFrame\n",
    "    submission = pd.DataFrame({\n",
    "        'property_id': test_df['property_id'],\n",
    "        'price': predictions\n",
    "    })\n",
    "    \n",
    "    # Round prices to integers\n",
    "    submission['price'] = submission['price'].round().astype(int)\n",
    "    \n",
    "    # Save to CSV with the exact format\n",
    "    submission.to_csv(filename, index=False, quoting=1)  # quoting=1 ensures quotes around property_id\n",
    "    \n",
    "    print(f\"\\nSubmission file created: {filename}\")\n",
    "    print(f\"Number of predictions: {len(submission)}\")\n",
    "    print(\"\\nSample of submission file:\")\n",
    "    print(submission.head())\n",
    "    \n",
    "    return submission\n",
    "\n",
    "# Create submission\n",
    "submission = create_submission_file(model, test, scaler, feature_cols)"
   ]
  },
  {
   "cell_type": "markdown",
   "metadata": {},
   "source": [
    "## v3 – LeakyReLU"
   ]
  },
  {
   "cell_type": "code",
   "execution_count": null,
   "metadata": {},
   "outputs": [],
   "source": [
    "class PricePredictor(nn.Module):\n",
    "    def __init__(self, input_size):\n",
    "        super(PricePredictor, self).__init__()\n",
    "        \n",
    "        self.network = nn.Sequential(\n",
    "            nn.Linear(input_size, 128),\n",
    "            nn.LeakyReLU(0.1),  \n",
    "            nn.BatchNorm1d(128),\n",
    "            nn.Dropout(0.3),\n",
    "            \n",
    "            nn.Linear(128, 64),\n",
    "            nn.LeakyReLU(0.1), \n",
    "            nn.BatchNorm1d(64),\n",
    "            nn.Dropout(0.2),\n",
    "            \n",
    "            nn.Linear(64, 32),\n",
    "            nn.LeakyReLU(0.1), \n",
    "            nn.BatchNorm1d(32),\n",
    "            \n",
    "            nn.Linear(32, 1)\n",
    "        )\n",
    "\n",
    "    def forward(self, x):\n",
    "        return self.network(x)"
   ]
  },
  {
   "cell_type": "code",
   "execution_count": 16,
   "metadata": {},
   "outputs": [
    {
     "name": "stdout",
     "output_type": "stream",
     "text": [
      "Using device: cpu\n",
      "Epoch [5/50], Train Loss: 0.1900, Val Loss: 0.1701\n",
      "Epoch [10/50], Train Loss: 0.1633, Val Loss: 0.1375\n",
      "Epoch [15/50], Train Loss: 0.1509, Val Loss: 0.1344\n",
      "Epoch [20/50], Train Loss: 0.1443, Val Loss: 0.1300\n",
      "Epoch [25/50], Train Loss: 0.1423, Val Loss: 0.1311\n",
      "Epoch [30/50], Train Loss: 0.1388, Val Loss: 0.1250\n",
      "Epoch [35/50], Train Loss: 0.1384, Val Loss: 0.1349\n",
      "Epoch [40/50], Train Loss: 0.1340, Val Loss: 0.1397\n",
      "Epoch [45/50], Train Loss: 0.1332, Val Loss: 0.1325\n",
      "Epoch [50/50], Train Loss: 0.1337, Val Loss: 0.1297\n"
     ]
    },
    {
     "data": {
      "image/png": "[encoded data removed]",
      "text/plain": [
       "<Figure size 1000x600 with 1 Axes>"
      ]
     },
     "metadata": {},
     "output_type": "display_data"
    }
   ],
   "source": [
    "model, scaler, feature_cols = setup_and_train(train)"
   ]
  },
  {
   "cell_type": "code",
   "execution_count": 17,
   "metadata": {},
   "outputs": [
    {
     "name": "stdout",
     "output_type": "stream",
     "text": [
      "\n",
      "Submission file created: /Users/edmundoarias/Documents/Uniandes/2024-2/ProblemSet_3/results/submissions/nn/nn_v3.csv\n",
      "Number of predictions: 10286\n",
      "\n",
      "Sample of submission file:\n",
      "                property_id      price\n",
      "0  d56159653f5d2abc5ed5acd7  693523712\n",
      "1  45550aa81c0151f1fd9fd8fe  606891008\n",
      "2  735deef3382aa15930482f3e  731020544\n",
      "3  0dd49fa8bb7be52b851c6dc9  729302016\n",
      "4  7d3220a91e78f8bc2924d1cd  711028544\n"
     ]
    }
   ],
   "source": [
    "def create_submission_file(model, test_df, scaler, feature_cols, filename='/Users/edmundoarias/Documents/Uniandes/2024-2/ProblemSet_3/results/submissions/nn/nn_v3.csv'):\n",
    "    \"\"\"\n",
    "    Create submission file with predictions in the required format\n",
    "    \"\"\"\n",
    "    # Prepare test data\n",
    "    X_test = test_df[feature_cols].values\n",
    "    X_test_scaled = scaler.transform(X_test)\n",
    "    X_test_tensor = torch.tensor(X_test_scaled, dtype=torch.float32)\n",
    "    \n",
    "    # Set model to evaluation mode\n",
    "    model.eval()\n",
    "    \n",
    "    # Make predictions\n",
    "    with torch.no_grad():\n",
    "        y_pred_log = model(X_test_tensor).cpu().numpy()\n",
    "    \n",
    "    # Convert from log space back to original scale\n",
    "    predictions = np.expm1(y_pred_log).flatten()\n",
    "    \n",
    "    # Create submission DataFrame\n",
    "    submission = pd.DataFrame({\n",
    "        'property_id': test_df['property_id'],\n",
    "        'price': predictions\n",
    "    })\n",
    "    \n",
    "    # Round prices to integers\n",
    "    submission['price'] = submission['price'].round().astype(int)\n",
    "    \n",
    "    # Save to CSV with the exact format\n",
    "    submission.to_csv(filename, index=False, quoting=1)  # quoting=1 ensures quotes around property_id\n",
    "    \n",
    "    print(f\"\\nSubmission file created: {filename}\")\n",
    "    print(f\"Number of predictions: {len(submission)}\")\n",
    "    print(\"\\nSample of submission file:\")\n",
    "    print(submission.head())\n",
    "    \n",
    "    return submission\n",
    "\n",
    "# Create submission\n",
    "submission = create_submission_file(model, test, scaler, feature_cols)"
   ]
  },
  {
   "cell_type": "code",
   "execution_count": null,
   "metadata": {},
   "outputs": [],
   "source": [
    "# best-to-date"
   ]
  },
  {
   "cell_type": "markdown",
   "metadata": {},
   "source": [
    "## v4 – residual connections"
   ]
  },
  {
   "cell_type": "markdown",
   "metadata": {},
   "source": [
    "Residual connections allow the network to preserve and propagate subtle features more directly"
   ]
  },
  {
   "cell_type": "code",
   "execution_count": 18,
   "metadata": {},
   "outputs": [],
   "source": [
    "class PricePredictor(nn.Module):\n",
    "    def __init__(self, input_size):\n",
    "        super(PricePredictor, self).__init__()\n",
    "        \n",
    "        # Initial projection to get to our desired width\n",
    "        self.input_projection = nn.Linear(input_size, 128)\n",
    "        \n",
    "        # Main network layers\n",
    "        self.layer1 = nn.Sequential(\n",
    "            nn.Linear(128, 128),\n",
    "            nn.LeakyReLU(0.1),\n",
    "            nn.BatchNorm1d(128),\n",
    "            nn.Dropout(0.3)\n",
    "        )\n",
    "        \n",
    "        self.layer2 = nn.Sequential(\n",
    "            nn.Linear(128, 64),\n",
    "            nn.LeakyReLU(0.1),\n",
    "            nn.BatchNorm1d(64),\n",
    "            nn.Dropout(0.2)\n",
    "        )\n",
    "        \n",
    "        self.layer3 = nn.Sequential(\n",
    "            nn.Linear(64, 32),\n",
    "            nn.LeakyReLU(0.1),\n",
    "            nn.BatchNorm1d(32)\n",
    "        )\n",
    "        \n",
    "        self.output = nn.Linear(32, 1)\n",
    "    \n",
    "    def forward(self, x):\n",
    "        # Initial projection\n",
    "        x = self.input_projection(x)\n",
    "        \n",
    "        # First residual block\n",
    "        identity = x\n",
    "        x = self.layer1(x)\n",
    "        x = x + identity  # Residual connection\n",
    "        \n",
    "        # Rest of the network\n",
    "        x = self.layer2(x)\n",
    "        x = self.layer3(x)\n",
    "        x = self.output(x)\n",
    "        return x"
   ]
  },
  {
   "cell_type": "code",
   "execution_count": 19,
   "metadata": {},
   "outputs": [
    {
     "name": "stdout",
     "output_type": "stream",
     "text": [
      "Using device: cpu\n",
      "Epoch [5/50], Train Loss: 0.1888, Val Loss: 0.1674\n",
      "Epoch [10/50], Train Loss: 0.1655, Val Loss: 0.1495\n",
      "Epoch [15/50], Train Loss: 0.1558, Val Loss: 0.1539\n",
      "Epoch [20/50], Train Loss: 0.1465, Val Loss: 0.1389\n",
      "Epoch [25/50], Train Loss: 0.1431, Val Loss: 0.1340\n",
      "Epoch [30/50], Train Loss: 0.1378, Val Loss: 0.1224\n",
      "Epoch [35/50], Train Loss: 0.1364, Val Loss: 0.1356\n",
      "Epoch [40/50], Train Loss: 0.1351, Val Loss: 0.1249\n",
      "Epoch [45/50], Train Loss: 0.1321, Val Loss: 0.1277\n",
      "Epoch [50/50], Train Loss: 0.1326, Val Loss: 0.1218\n"
     ]
    },
    {
     "data": {
      "image/png": "[encoded data removed]",
      "text/plain": [
       "<Figure size 1000x600 with 1 Axes>"
      ]
     },
     "metadata": {},
     "output_type": "display_data"
    }
   ],
   "source": [
    "model, scaler, feature_cols = setup_and_train(train)"
   ]
  },
  {
   "cell_type": "code",
   "execution_count": 20,
   "metadata": {},
   "outputs": [
    {
     "name": "stdout",
     "output_type": "stream",
     "text": [
      "\n",
      "Submission file created: /Users/edmundoarias/Documents/Uniandes/2024-2/ProblemSet_3/results/submissions/nn/nn_v4.csv\n",
      "Number of predictions: 10286\n",
      "\n",
      "Sample of submission file:\n",
      "                property_id      price\n",
      "0  d56159653f5d2abc5ed5acd7  698835136\n",
      "1  45550aa81c0151f1fd9fd8fe  635904704\n",
      "2  735deef3382aa15930482f3e  712352064\n",
      "3  0dd49fa8bb7be52b851c6dc9  716273152\n",
      "4  7d3220a91e78f8bc2924d1cd  694524480\n"
     ]
    }
   ],
   "source": [
    "def create_submission_file(model, test_df, scaler, feature_cols, filename='/Users/edmundoarias/Documents/Uniandes/2024-2/ProblemSet_3/results/submissions/nn/nn_v4.csv'):\n",
    "    \"\"\"\n",
    "    Create submission file with predictions in the required format\n",
    "    \"\"\"\n",
    "    # Prepare test data\n",
    "    X_test = test_df[feature_cols].values\n",
    "    X_test_scaled = scaler.transform(X_test)\n",
    "    X_test_tensor = torch.tensor(X_test_scaled, dtype=torch.float32)\n",
    "    \n",
    "    # Set model to evaluation mode\n",
    "    model.eval()\n",
    "    \n",
    "    # Make predictions\n",
    "    with torch.no_grad():\n",
    "        y_pred_log = model(X_test_tensor).cpu().numpy()\n",
    "    \n",
    "    # Convert from log space back to original scale\n",
    "    predictions = np.expm1(y_pred_log).flatten()\n",
    "    \n",
    "    # Create submission DataFrame\n",
    "    submission = pd.DataFrame({\n",
    "        'property_id': test_df['property_id'],\n",
    "        'price': predictions\n",
    "    })\n",
    "    \n",
    "    # Round prices to integers\n",
    "    submission['price'] = submission['price'].round().astype(int)\n",
    "    \n",
    "    # Save to CSV with the exact format\n",
    "    submission.to_csv(filename, index=False, quoting=1)  # quoting=1 ensures quotes around property_id\n",
    "    \n",
    "    print(f\"\\nSubmission file created: {filename}\")\n",
    "    print(f\"Number of predictions: {len(submission)}\")\n",
    "    print(\"\\nSample of submission file:\")\n",
    "    print(submission.head())\n",
    "    \n",
    "    return submission\n",
    "\n",
    "# Create submission\n",
    "submission = create_submission_file(model, test, scaler, feature_cols)"
   ]
  },
  {
   "cell_type": "code",
   "execution_count": null,
   "metadata": {},
   "outputs": [],
   "source": [
    "## did not improve"
   ]
  },
  {
   "cell_type": "markdown",
   "metadata": {},
   "source": [
    "### TODO\n",
    "- [ ] Adjust the LeakyReLU slope (try 0.05 or 0.01)\n",
    "- [ ] train for more epochs\n",
    "- [ ] parallel paths w/ different activation f's\n",
    "- [ ] adjust $\\eta$ scheduler"
   ]
  },
  {
   "cell_type": "markdown",
   "metadata": {},
   "source": [
    "### v5 – $\\eta$ scheduler"
   ]
  },
  {
   "cell_type": "code",
   "execution_count": 22,
   "metadata": {},
   "outputs": [],
   "source": [
    "# load v3 model (b2d)\n",
    "\n",
    "class PricePredictor(nn.Module):\n",
    "    def __init__(self, input_size):\n",
    "        super(PricePredictor, self).__init__()\n",
    "        \n",
    "        self.network = nn.Sequential(\n",
    "            nn.Linear(input_size, 128),\n",
    "            nn.LeakyReLU(0.1),  \n",
    "            nn.BatchNorm1d(128),\n",
    "            nn.Dropout(0.3),\n",
    "            \n",
    "            nn.Linear(128, 64),\n",
    "            nn.LeakyReLU(0.1), \n",
    "            nn.BatchNorm1d(64),\n",
    "            nn.Dropout(0.2),\n",
    "            \n",
    "            nn.Linear(64, 32),\n",
    "            nn.LeakyReLU(0.1), \n",
    "            nn.BatchNorm1d(32),\n",
    "            \n",
    "            nn.Linear(32, 1)\n",
    "        )\n",
    "\n",
    "    def forward(self, x):\n",
    "        return self.network(x)\n"
   ]
  },
  {
   "cell_type": "code",
   "execution_count": 23,
   "metadata": {},
   "outputs": [],
   "source": [
    "def setup_and_train(train_df, batch_size=64, num_epochs=50, learning_rate=0.001):\n",
    "    # Prepare data\n",
    "    train_dataset, val_dataset, scaler, feature_cols = prepare_data(train_df)\n",
    "    \n",
    "    # Create data loaders\n",
    "    train_loader = DataLoader(train_dataset, batch_size=batch_size, shuffle=True)\n",
    "    val_loader = DataLoader(val_dataset, batch_size=batch_size)\n",
    "    \n",
    "    # Setup device\n",
    "    device = torch.device('cuda' if torch.cuda.is_available() else 'cpu')\n",
    "    print(f'Using device: {device}')\n",
    "    \n",
    "    # Initialize model\n",
    "    model = PricePredictor(input_size=len(feature_cols)).to(device)\n",
    "    \n",
    "    # Loss and optimizer\n",
    "    criterion = nn.L1Loss()  # MAE loss\n",
    "    optimizer = torch.optim.Adam(model.parameters(), lr=learning_rate)\n",
    "    \n",
    "    # Add learning rate scheduler\n",
    "    scheduler = torch.optim.lr_scheduler.ReduceLROnPlateau(\n",
    "        optimizer,\n",
    "        mode='min',\n",
    "        factor=0.5,\n",
    "        patience=5,\n",
    "        verbose=True,\n",
    "        min_lr=1e-6\n",
    "    )\n",
    "    \n",
    "    # Train model\n",
    "    train_losses, val_losses = train_model(\n",
    "        model, train_loader, val_loader, criterion, \n",
    "        optimizer, scheduler, device, num_epochs\n",
    "    )\n",
    "    \n",
    "    # Plot training curves\n",
    "    plt.figure(figsize=(10, 6))\n",
    "    plt.plot(train_losses, label='Training Loss')\n",
    "    plt.plot(val_losses, label='Validation Loss')\n",
    "    plt.xlabel('Epoch')\n",
    "    plt.ylabel('Loss (MAE)')\n",
    "    plt.title('Training and Validation Loss')\n",
    "    plt.legend()\n",
    "    plt.show()\n",
    "    \n",
    "    return model, scaler, feature_cols"
   ]
  },
  {
   "cell_type": "code",
   "execution_count": 24,
   "metadata": {},
   "outputs": [],
   "source": [
    "def train_model(model, train_loader, val_loader, criterion, optimizer, scheduler, device, num_epochs):\n",
    "    train_losses = []\n",
    "    val_losses = []\n",
    "    best_val_loss = float('inf')\n",
    "    \n",
    "    for epoch in range(num_epochs):\n",
    "        # Training phase\n",
    "        model.train()\n",
    "        train_loss = 0\n",
    "        for X_batch, y_batch in train_loader:\n",
    "            X_batch, y_batch = X_batch.to(device), y_batch.to(device)\n",
    "            \n",
    "            optimizer.zero_grad()\n",
    "            y_pred = model(X_batch)\n",
    "            loss = criterion(y_pred, y_batch.view(-1, 1))\n",
    "            \n",
    "            loss.backward()\n",
    "            optimizer.step()\n",
    "            \n",
    "            train_loss += loss.item()\n",
    "        \n",
    "        # Validation phase\n",
    "        model.eval()\n",
    "        val_loss = 0\n",
    "        with torch.no_grad():\n",
    "            for X_val, y_val in val_loader:\n",
    "                X_val, y_val = X_val.to(device), y_val.to(device)\n",
    "                y_pred = model(X_val)\n",
    "                val_loss += criterion(y_pred, y_val.view(-1, 1)).item()\n",
    "        \n",
    "        # Calculate average losses\n",
    "        train_loss = train_loss / len(train_loader)\n",
    "        val_loss = val_loss / len(val_loader)\n",
    "        \n",
    "        # Step the scheduler based on validation loss\n",
    "        scheduler.step(val_loss)\n",
    "        \n",
    "        train_losses.append(train_loss)\n",
    "        val_losses.append(val_loss)\n",
    "        \n",
    "        # Save best model\n",
    "        if val_loss < best_val_loss:\n",
    "            best_val_loss = val_loss\n",
    "            torch.save(model.state_dict(), 'best_model.pth')\n",
    "        \n",
    "        if (epoch + 1) % 5 == 0:\n",
    "            print(f'Epoch [{epoch+1}/{num_epochs}], Train Loss: {train_loss:.4f}, Val Loss: {val_loss:.4f}')\n",
    "    \n",
    "    return train_losses, val_losses"
   ]
  },
  {
   "cell_type": "code",
   "execution_count": 25,
   "metadata": {},
   "outputs": [
    {
     "name": "stdout",
     "output_type": "stream",
     "text": [
      "Using device: cpu\n"
     ]
    },
    {
     "name": "stderr",
     "output_type": "stream",
     "text": [
      "/Library/Frameworks/Python.framework/Versions/3.12/lib/python3.12/site-packages/torch/optim/lr_scheduler.py:60: UserWarning: The verbose parameter is deprecated. Please use get_last_lr() to access the learning rate.\n",
      "  warnings.warn(\n"
     ]
    },
    {
     "name": "stdout",
     "output_type": "stream",
     "text": [
      "Epoch [5/50], Train Loss: 0.1856, Val Loss: 0.1549\n",
      "Epoch [10/50], Train Loss: 0.1608, Val Loss: 0.1560\n",
      "Epoch [15/50], Train Loss: 0.1529, Val Loss: 0.1374\n",
      "Epoch [20/50], Train Loss: 0.1454, Val Loss: 0.1251\n",
      "Epoch [25/50], Train Loss: 0.1426, Val Loss: 0.1295\n",
      "Epoch [30/50], Train Loss: 0.1402, Val Loss: 0.1266\n",
      "Epoch [35/50], Train Loss: 0.1338, Val Loss: 0.1180\n",
      "Epoch [40/50], Train Loss: 0.1325, Val Loss: 0.1173\n",
      "Epoch [45/50], Train Loss: 0.1302, Val Loss: 0.1214\n",
      "Epoch [50/50], Train Loss: 0.1286, Val Loss: 0.1208\n"
     ]
    },
    {
     "data": {
      "image/png": "[encoded data removed]",
      "text/plain": [
       "<Figure size 1000x600 with 1 Axes>"
      ]
     },
     "metadata": {},
     "output_type": "display_data"
    }
   ],
   "source": [
    "model, scaler, feature_cols = setup_and_train(train)"
   ]
  },
  {
   "cell_type": "code",
   "execution_count": 26,
   "metadata": {},
   "outputs": [
    {
     "name": "stdout",
     "output_type": "stream",
     "text": [
      "\n",
      "Submission file created: /Users/edmundoarias/Documents/Uniandes/2024-2/ProblemSet_3/results/submissions/nn/nn_v5.csv\n",
      "Number of predictions: 10286\n",
      "\n",
      "Sample of submission file:\n",
      "                property_id      price\n",
      "0  d56159653f5d2abc5ed5acd7  669358784\n",
      "1  45550aa81c0151f1fd9fd8fe  640354560\n",
      "2  735deef3382aa15930482f3e  685587712\n",
      "3  0dd49fa8bb7be52b851c6dc9  708787584\n",
      "4  7d3220a91e78f8bc2924d1cd  694675520\n"
     ]
    }
   ],
   "source": [
    "def create_submission_file(model, test_df, scaler, feature_cols, filename='/Users/edmundoarias/Documents/Uniandes/2024-2/ProblemSet_3/results/submissions/nn/nn_v5.csv'):\n",
    "    \"\"\"\n",
    "    Create submission file with predictions in the required format\n",
    "    \"\"\"\n",
    "    # Prepare test data\n",
    "    X_test = test_df[feature_cols].values\n",
    "    X_test_scaled = scaler.transform(X_test)\n",
    "    X_test_tensor = torch.tensor(X_test_scaled, dtype=torch.float32)\n",
    "    \n",
    "    # Set model to evaluation mode\n",
    "    model.eval()\n",
    "    \n",
    "    # Make predictions\n",
    "    with torch.no_grad():\n",
    "        y_pred_log = model(X_test_tensor).cpu().numpy()\n",
    "    \n",
    "    # Convert from log space back to original scale\n",
    "    predictions = np.expm1(y_pred_log).flatten()\n",
    "    \n",
    "    # Create submission DataFrame\n",
    "    submission = pd.DataFrame({\n",
    "        'property_id': test_df['property_id'],\n",
    "        'price': predictions\n",
    "    })\n",
    "    \n",
    "    # Round prices to integers\n",
    "    submission['price'] = submission['price'].round().astype(int)\n",
    "    \n",
    "    # Save to CSV with the exact format\n",
    "    submission.to_csv(filename, index=False, quoting=1)  # quoting=1 ensures quotes around property_id\n",
    "    \n",
    "    print(f\"\\nSubmission file created: {filename}\")\n",
    "    print(f\"Number of predictions: {len(submission)}\")\n",
    "    print(\"\\nSample of submission file:\")\n",
    "    print(submission.head())\n",
    "    \n",
    "    return submission\n",
    "\n",
    "# Create submission\n",
    "submission = create_submission_file(model, test, scaler, feature_cols)"
   ]
  },
  {
   "cell_type": "markdown",
   "metadata": {},
   "source": [
    "### TODO\n",
    "- [ ] Adjust the LeakyReLU slope (try 0.05 or 0.01)\n",
    "- [ ] train for more epochs\n",
    "- [ ] parallel paths w/ different activation f's"
   ]
  }
 ],
 "metadata": {
  "kernelspec": {
   "display_name": "Python 3",
   "language": "python",
   "name": "python3"
  },
  "language_info": {
   "codemirror_mode": {
    "name": "ipython",
    "version": 3
   },
   "file_extension": ".py",
   "mimetype": "text/x-python",
   "name": "python",
   "nbconvert_exporter": "python",
   "pygments_lexer": "ipython3",
   "version": "3.12.2"
  }
 },
 "nbformat": 4,
 "nbformat_minor": 2
}
