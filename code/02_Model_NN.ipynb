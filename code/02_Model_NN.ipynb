{
 "cells": [
  {
   "cell_type": "code",
   "execution_count": 1,
   "metadata": {},
   "outputs": [],
   "source": [
    "import pandas as pd\n",
    "import numpy as np\n",
    "import matplotlib.pyplot as plt\n",
    "import torch\n",
    "import torch.nn as nn\n",
    "import torch.optim as optim\n",
    "from torch.utils.data import DataLoader, Dataset\n",
    "from sklearn.model_selection import train_test_split\n",
    "from sklearn.preprocessing import StandardScaler\n"
   ]
  },
  {
   "cell_type": "markdown",
   "metadata": {},
   "source": [
    "# 0. import data"
   ]
  },
  {
   "cell_type": "code",
   "execution_count": 2,
   "metadata": {},
   "outputs": [],
   "source": [
    "# set random state\n",
    "np.random.seed(42)"
   ]
  },
  {
   "cell_type": "code",
   "execution_count": 3,
   "metadata": {},
   "outputs": [],
   "source": [
    "# load data\n",
    "train = pd.read_csv('/Users/edmundoarias/Documents/Uniandes/2024-2/ProblemSet_3/data/ready/train_ready.csv')\n",
    "test = pd.read_csv('/Users/edmundoarias/Documents/Uniandes/2024-2/ProblemSet_3/data/ready/test_ready.csv')"
   ]
  },
  {
   "cell_type": "code",
   "execution_count": 4,
   "metadata": {},
   "outputs": [],
   "source": [
    "# drop price_per_m2 from train\n",
    "train = train.drop(columns=['price_per_m2'])"
   ]
  },
  {
   "cell_type": "code",
   "execution_count": 5,
   "metadata": {},
   "outputs": [],
   "source": [
    "# Custom dataset class\n",
    "class PropertyDataset(Dataset):\n",
    "    def __init__(self, X, y):\n",
    "        self.X = torch.tensor(X, dtype=torch.float32)\n",
    "        self.y = torch.tensor(y, dtype=torch.float32)\n",
    "        \n",
    "    def __len__(self):\n",
    "        return len(self.X)\n",
    "    \n",
    "    def __getitem__(self, idx):\n",
    "        return self.X[idx], self.y[idx]\n"
   ]
  },
  {
   "cell_type": "code",
   "execution_count": 6,
   "metadata": {},
   "outputs": [],
   "source": [
    "# Neural Network model\n",
    "class PricePredictor(nn.Module):\n",
    "    def __init__(self, input_size):\n",
    "        super(PricePredictor, self).__init__()\n",
    "        \n",
    "        self.network = nn.Sequential(\n",
    "            nn.Linear(input_size, 128),\n",
    "            nn.ReLU(),\n",
    "            nn.BatchNorm1d(128),\n",
    "            nn.Dropout(0.3),\n",
    "            \n",
    "            nn.Linear(128, 64),\n",
    "            nn.ReLU(),\n",
    "            nn.BatchNorm1d(64),\n",
    "            nn.Dropout(0.2),\n",
    "            \n",
    "            nn.Linear(64, 32),\n",
    "            nn.ReLU(),\n",
    "            nn.BatchNorm1d(32),\n",
    "            \n",
    "            nn.Linear(32, 1)\n",
    "        )\n",
    "    \n",
    "    def forward(self, x):\n",
    "        return self.network(x)"
   ]
  },
  {
   "cell_type": "code",
   "execution_count": 7,
   "metadata": {},
   "outputs": [],
   "source": [
    "def train_model(model, train_loader, val_loader, criterion, optimizer, device, num_epochs):\n",
    "    train_losses = []\n",
    "    val_losses = []\n",
    "    best_val_loss = float('inf')\n",
    "    \n",
    "    for epoch in range(num_epochs):\n",
    "        # Training phase\n",
    "        model.train()\n",
    "        train_loss = 0\n",
    "        for X_batch, y_batch in train_loader:\n",
    "            X_batch, y_batch = X_batch.to(device), y_batch.to(device)\n",
    "            \n",
    "            optimizer.zero_grad()\n",
    "            y_pred = model(X_batch)\n",
    "            loss = criterion(y_pred, y_batch.view(-1, 1))\n",
    "            \n",
    "            loss.backward()\n",
    "            optimizer.step()\n",
    "            \n",
    "            train_loss += loss.item()\n",
    "        \n",
    "        # Validation phase\n",
    "        model.eval()\n",
    "        val_loss = 0\n",
    "        with torch.no_grad():\n",
    "            for X_val, y_val in val_loader:\n",
    "                X_val, y_val = X_val.to(device), y_val.to(device)\n",
    "                y_pred = model(X_val)\n",
    "                val_loss += criterion(y_pred, y_val.view(-1, 1)).item()\n",
    "        \n",
    "        # Calculate average losses\n",
    "        train_loss = train_loss / len(train_loader)\n",
    "        val_loss = val_loss / len(val_loader)\n",
    "        \n",
    "        train_losses.append(train_loss)\n",
    "        val_losses.append(val_loss)\n",
    "        \n",
    "        # Save best model\n",
    "        if val_loss < best_val_loss:\n",
    "            best_val_loss = val_loss\n",
    "            torch.save(model.state_dict(), 'best_model.pth')\n",
    "        \n",
    "        if (epoch + 1) % 5 == 0:\n",
    "            print(f'Epoch [{epoch+1}/{num_epochs}], Train Loss: {train_loss:.4f}, Val Loss: {val_loss:.4f}')\n",
    "    \n",
    "    return train_losses, val_losses"
   ]
  },
  {
   "cell_type": "code",
   "execution_count": null,
   "metadata": {},
   "outputs": [],
   "source": [
    "# prep data\n",
    "def prepare_data(train_df):\n",
    "    # Select numeric columns and target\n",
    "    numeric_cols = train_df.select_dtypes(include=['int64', 'float64']).columns\n",
    "    feature_cols = [col for col in numeric_cols if col not in ['price', 'property_id']]\n",
    "    \n",
    "    # Split features and target\n",
    "    X = train_df[feature_cols].values\n",
    "    y = train_df['price'].values\n",
    "    \n",
    "    # Scale features\n",
    "    scaler = StandardScaler()\n",
    "    X_scaled = scaler.fit_transform(X)\n",
    "    \n",
    "    # Scale target (log transform for price)\n",
    "    y_log = np.log1p(y)\n",
    "    \n",
    "    # Train-validation split\n",
    "    X_train, X_val, y_train, y_val = train_test_split(\n",
    "        X_scaled, y_log, test_size=0.2, random_state=42\n",
    "    )\n",
    "    \n",
    "    # Create datasets\n",
    "    train_dataset = PropertyDataset(X_train, y_train)\n",
    "    val_dataset = PropertyDataset(X_val, y_val)\n",
    "    \n",
    "    return train_dataset, val_dataset, scaler, feature_cols"
   ]
  },
  {
   "cell_type": "code",
   "execution_count": null,
   "metadata": {},
   "outputs": [
    {
     "name": "stdout",
     "output_type": "stream",
     "text": [
      "Using device: cpu\n",
      "Epoch [5/50], Train Loss: 0.2002, Val Loss: 0.1730\n",
      "Epoch [10/50], Train Loss: 0.1689, Val Loss: 0.1387\n",
      "Epoch [15/50], Train Loss: 0.1594, Val Loss: 0.1387\n",
      "Epoch [20/50], Train Loss: 0.1506, Val Loss: 0.1297\n",
      "Epoch [25/50], Train Loss: 0.1469, Val Loss: 0.1267\n",
      "Epoch [30/50], Train Loss: 0.1450, Val Loss: 0.1661\n",
      "Epoch [35/50], Train Loss: 0.1415, Val Loss: 0.1318\n",
      "Epoch [40/50], Train Loss: 0.1374, Val Loss: 0.1320\n",
      "Epoch [45/50], Train Loss: 0.1375, Val Loss: 0.1218\n",
      "Epoch [50/50], Train Loss: 0.1368, Val Loss: 0.1292\n"
     ]
    },
    {
     "data": {
      "image/png": "[encoded data removed]",
      "text/plain": [
       "<Figure size 1000x600 with 1 Axes>"
      ]
     },
     "metadata": {},
     "output_type": "display_data"
    }
   ],
   "source": [
    "# main training setup\n",
    "def setup_and_train(train_df, batch_size=64, num_epochs=50, learning_rate=0.001):\n",
    "    # Prepare data\n",
    "    train_dataset, val_dataset, scaler, feature_cols = prepare_data(train_df)\n",
    "    \n",
    "    # Create data loaders\n",
    "    train_loader = DataLoader(train_dataset, batch_size=batch_size, shuffle=True)\n",
    "    val_loader = DataLoader(val_dataset, batch_size=batch_size)\n",
    "    \n",
    "    # Setup device\n",
    "    device = torch.device('cuda' if torch.cuda.is_available() else 'cpu')\n",
    "    print(f'Using device: {device}')\n",
    "    \n",
    "    # Initialize model\n",
    "    model = PricePredictor(input_size=len(feature_cols)).to(device)\n",
    "    \n",
    "    # Loss and optimizer\n",
    "    criterion = nn.L1Loss()  # MAE loss\n",
    "    optimizer = torch.optim.Adam(model.parameters(), lr=learning_rate)\n",
    "    \n",
    "    # Train model\n",
    "    train_losses, val_losses = train_model(\n",
    "        model, train_loader, val_loader, criterion, \n",
    "        optimizer, device, num_epochs\n",
    "    )\n",
    "    \n",
    "    # Plot training curves\n",
    "    plt.figure(figsize=(10, 6))\n",
    "    plt.plot(train_losses, label='Training Loss')\n",
    "    plt.plot(val_losses, label='Validation Loss')\n",
    "    plt.xlabel('Epoch')\n",
    "    plt.ylabel('Loss (MAE)')\n",
    "    plt.title('Training and Validation Loss')\n",
    "    plt.legend()\n",
    "    plt.show()\n",
    "    \n",
    "    return model, scaler, feature_cols\n",
    "\n",
    "# Usage\n",
    "model, scaler, feature_cols = setup_and_train(train)"
   ]
  },
  {
   "cell_type": "code",
   "execution_count": 14,
   "metadata": {},
   "outputs": [
    {
     "name": "stdout",
     "output_type": "stream",
     "text": [
      "\n",
      "Submission file created: /Users/edmundoarias/Documents/Uniandes/2024-2/ProblemSet_3/results/submissions/nn/nn_v1.csv\n",
      "Number of predictions: 10286\n",
      "\n",
      "Sample of submission file:\n",
      "                property_id      price\n",
      "0  d56159653f5d2abc5ed5acd7  673600576\n",
      "1  45550aa81c0151f1fd9fd8fe  676189248\n",
      "2  735deef3382aa15930482f3e  688502144\n",
      "3  0dd49fa8bb7be52b851c6dc9  692305152\n",
      "4  7d3220a91e78f8bc2924d1cd  675153088\n"
     ]
    }
   ],
   "source": [
    "def create_submission_file(model, test_df, scaler, feature_cols, filename='/Users/edmundoarias/Documents/Uniandes/2024-2/ProblemSet_3/results/submissions/nn/nn_v1.csv'):\n",
    "    \"\"\"\n",
    "    Create submission file with predictions in the required format\n",
    "    \"\"\"\n",
    "    # Prepare test data\n",
    "    X_test = test_df[feature_cols].values\n",
    "    X_test_scaled = scaler.transform(X_test)\n",
    "    X_test_tensor = torch.tensor(X_test_scaled, dtype=torch.float32)\n",
    "    \n",
    "    # Set model to evaluation mode\n",
    "    model.eval()\n",
    "    \n",
    "    # Make predictions\n",
    "    with torch.no_grad():\n",
    "        y_pred_log = model(X_test_tensor).cpu().numpy()\n",
    "    \n",
    "    # Convert from log space back to original scale\n",
    "    predictions = np.expm1(y_pred_log).flatten()\n",
    "    \n",
    "    # Create submission DataFrame\n",
    "    submission = pd.DataFrame({\n",
    "        'property_id': test_df['property_id'],\n",
    "        'price': predictions\n",
    "    })\n",
    "    \n",
    "    # Round prices to integers\n",
    "    submission['price'] = submission['price'].round().astype(int)\n",
    "    \n",
    "    # Save to CSV with the exact format\n",
    "    submission.to_csv(filename, index=False, quoting=1)  # quoting=1 ensures quotes around property_id\n",
    "    \n",
    "    print(f\"\\nSubmission file created: {filename}\")\n",
    "    print(f\"Number of predictions: {len(submission)}\")\n",
    "    print(\"\\nSample of submission file:\")\n",
    "    print(submission.head())\n",
    "    \n",
    "    return submission\n",
    "\n",
    "# Create submission\n",
    "submission = create_submission_file(model, test, scaler, feature_cols)"
   ]
  }
 ],
 "metadata": {
  "kernelspec": {
   "display_name": "Python 3",
   "language": "python",
   "name": "python3"
  },
  "language_info": {
   "codemirror_mode": {
    "name": "ipython",
    "version": 3
   },
   "file_extension": ".py",
   "mimetype": "text/x-python",
   "name": "python",
   "nbconvert_exporter": "python",
   "pygments_lexer": "ipython3",
   "version": "3.12.2"
  }
 },
 "nbformat": 4,
 "nbformat_minor": 2
}
